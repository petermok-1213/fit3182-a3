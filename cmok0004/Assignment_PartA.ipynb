{
 "cells": [
  {
   "cell_type": "markdown",
   "source": [
    "# Task 1\n",
    "\n",
    "## Data Model\n",
    "\n",
    "As Station-Date is a 1-many relationship;\n",
    "    Date-Climate is a 1-1 relationship and\n",
    "    Date-Hotspot is a 1-0/many relationship.\n",
    "The data models are designed as the following:\n",
    "\n",
    "```\n",
    "Station Collection:\n",
    "    Stations = [\n",
    "        {\n",
    "            id: station,\n",
    "            dates: [id of date]\n",
    "        }\n",
    "    ]\n",
    "Dates Collection:\n",
    "    Dates = [\n",
    "        {\n",
    "            id: date,\n",
    "            climate: {\n",
    "                // climate attributes\n",
    "            },\n",
    "            hotspots: [id of hotspot]\n",
    "        }\n",
    "    ]\n",
    "Hotspots Collection:\n",
    "    Hotspots = [\n",
    "        {\n",
    "            id: id,\n",
    "            other_attributes: ...\n",
    "        }\n",
    "    ]\n",
    "```\n",
    "\n",
    "## Justification\n",
    "### Benefits\n",
    "- Decoupling Station from Date allows Dates to be referenced from Station\n",
    "- Putting the data of climate in Dates allows direct access to climate from a given data\n",
    "- Decoupling Dates from Hotspots because transitive dependency thing (datetime -> date)\n",
    "\n",
    "### Drawback\n",
    "- Only Year 2022 contains data of hotspots, so there are a lot of empty list for date.hotspots\n"
   ],
   "metadata": {
    "collapsed": false
   }
  },
  {
   "cell_type": "markdown",
   "source": [
    "# 2. Queueing MongoDB with PyMongo\n",
    "## 2.1 Read data and create database"
   ],
   "metadata": {
    "collapsed": false
   }
  },
  {
   "cell_type": "markdown",
   "source": [
    "### Importing Libraries"
   ],
   "metadata": {
    "collapsed": false
   }
  },
  {
   "cell_type": "code",
   "execution_count": 1,
   "outputs": [],
   "source": [
    "from pymongo import MongoClient\n",
    "import pandas as pd             # pandas version 2.0.1\n",
    "from datetime import datetime\n",
    "from bson import ObjectId"
   ],
   "metadata": {
    "collapsed": false,
    "ExecuteTime": {
     "end_time": "2023-05-29T06:47:01.055525Z",
     "start_time": "2023-05-29T06:47:00.383757Z"
    }
   }
  },
  {
   "cell_type": "markdown",
   "source": [
    "### Connecting to Database"
   ],
   "metadata": {
    "collapsed": false
   }
  },
  {
   "cell_type": "code",
   "execution_count": 47,
   "outputs": [],
   "source": [
    "client = MongoClient('mongodb://localhost:27017/')\n",
    "db = client.fit3182_assignment_db\n",
    "db.stations.drop()\n",
    "db.dates.drop()\n",
    "db.hotspots.drop()"
   ],
   "metadata": {
    "collapsed": false,
    "ExecuteTime": {
     "end_time": "2023-05-29T07:05:27.371991Z",
     "start_time": "2023-05-29T07:05:27.328757Z"
    }
   }
  },
  {
   "cell_type": "markdown",
   "source": [
    "### Reading Datasets"
   ],
   "metadata": {
    "collapsed": false
   }
  },
  {
   "cell_type": "code",
   "execution_count": 48,
   "outputs": [],
   "source": [
    "climate_historic = pd.read_csv(\"../dataset/climate_historic.csv\")\n",
    "hotspot_historic = pd.read_csv(\"../dataset/hotspot_historic.csv\")"
   ],
   "metadata": {
    "collapsed": false,
    "ExecuteTime": {
     "end_time": "2023-05-29T07:05:29.052113Z",
     "start_time": "2023-05-29T07:05:29.031824Z"
    }
   }
  },
  {
   "cell_type": "markdown",
   "source": [
    "### Functions for converting date in string to datetime"
   ],
   "metadata": {
    "collapsed": false
   }
  },
  {
   "cell_type": "code",
   "execution_count": 38,
   "outputs": [],
   "source": [
    "def raw_date_to_datetime(date: str) -> datetime:\n",
    "    dd, mm, yyyy = date.split(\"/\")\n",
    "    return datetime(int(yyyy), int(mm), int(dd))\n",
    "\n",
    "def raw_datetime_to_datatime(datetime_str: str) -> datetime:\n",
    "    date, time = datetime_str.split(\"T\")\n",
    "    yy, mm, dd = date.split(\"-\")\n",
    "    h, m, s = time.split(\":\")\n",
    "    return datetime(int(yy), int(mm), int(dd), hour=int(h), minute=int(m), second=int(s))"
   ],
   "metadata": {
    "collapsed": false,
    "ExecuteTime": {
     "end_time": "2023-05-29T06:59:52.911854Z",
     "start_time": "2023-05-29T06:59:52.897188Z"
    }
   }
  },
  {
   "cell_type": "markdown",
   "source": [
    "### Light data wrangling"
   ],
   "metadata": {
    "collapsed": false
   }
  },
  {
   "cell_type": "code",
   "execution_count": 49,
   "outputs": [],
   "source": [
    "dates = pd.DataFrame(climate_historic.date).merge(hotspot_historic.date).date           # merging both datasets' date\n",
    "dates = pd.DataFrame(dates.unique())                                                    # Get all unique dates from both data set\n",
    "dates = list(dates[0].apply(raw_date_to_datetime))                                      # date:str -> date:datetime; Series -> List\n",
    "\n",
    "climate_historic.date = climate_historic.date.apply(raw_date_to_datetime)               # date:str -> date:datetime\n",
    "hotspot_historic.date = hotspot_historic.date.apply(raw_date_to_datetime)               # date:str -> date:datetime\n",
    "hotspot_historic.datetime = hotspot_historic.datetime.apply(raw_datetime_to_datatime)   # datetime:str -> datetime:datetime"
   ],
   "metadata": {
    "collapsed": false,
    "ExecuteTime": {
     "end_time": "2023-05-29T07:05:31.626169Z",
     "start_time": "2023-05-29T07:05:31.594730Z"
    }
   }
  },
  {
   "cell_type": "markdown",
   "source": [
    "### Creating Data Models"
   ],
   "metadata": {
    "collapsed": false
   }
  },
  {
   "cell_type": "code",
   "execution_count": 50,
   "outputs": [],
   "source": [
    "# list representing the Station collection\n",
    "stations_col = [\n",
    "    {\n",
    "        \"_id\": int(station),\n",
    "        \"dates\": [\n",
    "            {\"date\": date}\n",
    "            for date in climate_historic[climate_historic.station == station][\"date\"].array\n",
    "        ]\n",
    "    }\n",
    "    for station in list(climate_historic.station.unique())\n",
    "]"
   ],
   "metadata": {
    "collapsed": false,
    "ExecuteTime": {
     "end_time": "2023-05-29T07:05:34.343775Z",
     "start_time": "2023-05-29T07:05:34.323455Z"
    }
   }
  },
  {
   "cell_type": "code",
   "execution_count": 51,
   "outputs": [],
   "source": [
    "# list representing the Hotspot collection\n",
    "hotspots_col = [\n",
    "    {\n",
    "        \"_id\": ObjectId(),              # this is done as there are duplicated value for \"date\" and \"datetime\" across rows of data\n",
    "        \"date\": hotspot.date,           #\n",
    "        \"datetime\": hotspot.datetime,   #\n",
    "        \"lat\": hotspot.latitude,\n",
    "        \"lng\": hotspot.longitude,\n",
    "        \"confidence\": hotspot.confidence,\n",
    "        \"surface_temperature\": hotspot.surface_temperature_celcius\n",
    "    }\n",
    "    for _, hotspot in hotspot_historic.iterrows()\n",
    "]"
   ],
   "metadata": {
    "collapsed": false,
    "ExecuteTime": {
     "end_time": "2023-05-29T07:05:36.274718Z",
     "start_time": "2023-05-29T07:05:36.120147Z"
    }
   }
  },
  {
   "cell_type": "code",
   "execution_count": 52,
   "outputs": [],
   "source": [
    "# list representing the Dates collection\n",
    "dates_col = [\n",
    "    {\n",
    "        \"_id\": date,\n",
    "        \"climate\": {    # date-climate is 1-1\n",
    "            \"air_temperature\": int(climate_historic[climate_historic.date == date][\"air_temperature_celcius\"].array[0]),\n",
    "            \"relative_humidity\": float(climate_historic[climate_historic.date == date][\"relative_humidity\"].array[0]),\n",
    "            \"windspeed_knots\": float(climate_historic[climate_historic.date == date][\"windspeed_knots\"].array[0]),\n",
    "            \"max_wind_speed\": float(climate_historic[climate_historic.date == date][\"max_wind_speed\"].array[0]),\n",
    "            \"precipitation\": climate_historic[climate_historic.date == date][\"precipitation\"].array[0],\n",
    "            \"ghi\": int(climate_historic[climate_historic.date == date][\"GHI_w/m2\"].array[0])\n",
    "        },\n",
    "        \"hotspots\": [   # date-hotspots is 1-0/many\n",
    "            {\"hotspot_id\": hotspot}\n",
    "            for hotspot in pd.DataFrame(hotspots_col)[pd.DataFrame(hotspots_col).date == date][\"_id\"]\n",
    "        ]\n",
    "    }\n",
    "    for date in dates\n",
    "]"
   ],
   "metadata": {
    "collapsed": false,
    "ExecuteTime": {
     "end_time": "2023-05-29T07:05:41.604857Z",
     "start_time": "2023-05-29T07:05:39.047037Z"
    }
   }
  },
  {
   "cell_type": "markdown",
   "source": [
    "### Inserting Data to MongoDb"
   ],
   "metadata": {
    "collapsed": false
   }
  },
  {
   "cell_type": "code",
   "execution_count": 53,
   "outputs": [
    {
     "name": "stdout",
     "output_type": "stream",
     "text": [
      "Station inserted\n",
      "Date inserted\n",
      "Hotspot inserted\n"
     ]
    }
   ],
   "source": [
    "from pymongo.errors import BulkWriteError\n",
    "\n",
    "try:\n",
    "    db.stations.insert_many(stations_col)\n",
    "except BulkWriteError:\n",
    "    print(\"Duplicated Keys in stations (Data already inserted)\")\n",
    "else:\n",
    "    print(\"Station inserted\")\n",
    "\n",
    "try:\n",
    "    db.dates.insert_many(dates_col)\n",
    "except BulkWriteError:\n",
    "    print(\"Duplicated Keys in dates (Data already inserted)\")\n",
    "else:\n",
    "    print(\"Date inserted\")\n",
    "\n",
    "try:\n",
    "    db.hotspots.insert_many(hotspots_col)\n",
    "except BulkWriteError:\n",
    "    print(\"Duplicated Keys in hotspots (Data already inserted)\")\n",
    "else:\n",
    "    print(\"Hotspot inserted\")"
   ],
   "metadata": {
    "collapsed": false,
    "ExecuteTime": {
     "end_time": "2023-05-29T07:05:44.536600Z",
     "start_time": "2023-05-29T07:05:44.159695Z"
    }
   }
  },
  {
   "cell_type": "markdown",
   "source": [
    "# Task 2"
   ],
   "metadata": {
    "collapsed": false
   }
  },
  {
   "cell_type": "code",
   "execution_count": 94,
   "outputs": [],
   "source": [],
   "metadata": {
    "collapsed": false
   }
  }
 ],
 "metadata": {
  "kernelspec": {
   "display_name": "Python 3",
   "language": "python",
   "name": "python3"
  },
  "language_info": {
   "codemirror_mode": {
    "name": "ipython",
    "version": 2
   },
   "file_extension": ".py",
   "mimetype": "text/x-python",
   "name": "python",
   "nbconvert_exporter": "python",
   "pygments_lexer": "ipython2",
   "version": "2.7.6"
  }
 },
 "nbformat": 4,
 "nbformat_minor": 0
}
