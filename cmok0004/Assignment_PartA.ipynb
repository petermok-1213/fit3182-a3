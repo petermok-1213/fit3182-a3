{
 "cells": [
  {
   "cell_type": "markdown",
   "source": [
    "# Task 1\n",
    "\n",
    "## Data Model\n",
    "\n",
    "As Station-Date is a 1-many relationship;\n",
    "    Date-Climate is a 1-1 relationship and\n",
    "    Date-Hotspot is a 1-0/many relationship.\n",
    "The data models are designed as the following:\n",
    "\n",
    "```\n",
    "Station Collection:\n",
    "    Stations = [\n",
    "        {\n",
    "            id: station,\n",
    "            dates: [id of date]\n",
    "        }\n",
    "    ]\n",
    "Dates Collection:\n",
    "    Dates = [\n",
    "        {\n",
    "            id: date,\n",
    "            climate: {\n",
    "                // climate attributes\n",
    "            },\n",
    "            hotspots: [id of hotspot]\n",
    "        }\n",
    "    ]\n",
    "Hotspots Collection:\n",
    "    Hotspots = [\n",
    "        {\n",
    "            id: datetime,\n",
    "            date: date (id of date in Dates)\n",
    "            other_attributes: ...\n",
    "        }\n",
    "    ]\n",
    "```\n",
    "\n",
    "## Justification\n",
    "### Benefits\n",
    "- Decoupling Station from Date allows Dates to be referenced from Station\n",
    "- Putting the data of climate in Dates allows direct access to climate from a given data\n",
    "- Decoupling Dates from Hotspots because transitive dependency thing (datetime -> date)\n",
    "\n",
    "### Drawback\n",
    "- Only Year 2022 contains data of hotspots, so there are a lot of empty list for date.hotspots\n"
   ],
   "metadata": {
    "collapsed": false
   }
  },
  {
   "cell_type": "markdown",
   "source": [
    "# 2. Queueing MongoDB with PyMongo\n",
    "## 2.1 Read data and create database"
   ],
   "metadata": {
    "collapsed": false
   }
  },
  {
   "cell_type": "markdown",
   "source": [
    "### Importing Libraries"
   ],
   "metadata": {
    "collapsed": false
   }
  },
  {
   "cell_type": "code",
   "execution_count": 37,
   "outputs": [],
   "source": [
    "from pymongo import MongoClient\n",
    "import pandas as pd             # pandas version 2.0.1\n",
    "import datetime"
   ],
   "metadata": {
    "collapsed": false,
    "ExecuteTime": {
     "end_time": "2023-05-28T14:25:41.284059Z",
     "start_time": "2023-05-28T14:25:41.276834Z"
    }
   }
  },
  {
   "cell_type": "markdown",
   "source": [
    "### Connecting to Database"
   ],
   "metadata": {
    "collapsed": false
   }
  },
  {
   "cell_type": "code",
   "execution_count": 2,
   "outputs": [],
   "source": [
    "client = MongoClient('mongodb://localhost:27017/')\n",
    "db = client.fit3182_assignment_db"
   ],
   "metadata": {
    "collapsed": false,
    "ExecuteTime": {
     "end_time": "2023-05-28T13:34:56.617087Z",
     "start_time": "2023-05-28T13:34:56.599022Z"
    }
   }
  },
  {
   "cell_type": "markdown",
   "source": [
    "### Reading Datasets"
   ],
   "metadata": {
    "collapsed": false
   }
  },
  {
   "cell_type": "code",
   "execution_count": 31,
   "outputs": [],
   "source": [
    "climate_historic = pd.read_csv(\"../dataset/climate_historic.csv\")\n",
    "hotspot_historic = pd.read_csv(\"../dataset/hotspot_historic.csv\")"
   ],
   "metadata": {
    "collapsed": false,
    "ExecuteTime": {
     "end_time": "2023-05-28T14:14:52.884371Z",
     "start_time": "2023-05-28T14:14:52.858801Z"
    }
   }
  },
  {
   "cell_type": "markdown",
   "source": [
    "### Creating Dates collection"
   ],
   "metadata": {
    "collapsed": false
   }
  },
  {
   "cell_type": "code",
   "execution_count": 32,
   "outputs": [],
   "source": [
    "# this is done as Pymongo use datetime for date and time\n",
    "def raw_date_to_datetime(date: str) -> datetime:\n",
    "    [dd, mm, yyyy] = date.split(\"/\")\n",
    "    return datetime.datetime(int(yyyy), int(mm), int(dd))\n",
    "\n",
    "dates = pd.DataFrame(climate_historic.date).merge(hotspot_historic.date).date   # merging both datasets' date\n",
    "dates = pd.DataFrame(dates.unique())                                            # Get all unique dates from both data set\n",
    "dates = list(dates[0].apply(raw_date_to_datetime))                              # date:str -> date:datetime; Series -> List\n",
    "climate_historic.date = climate_historic.date.apply(raw_date_to_datetime)       # date:str -> date:datetime\n",
    "hotspot_historic.date = hotspot_historic.date.apply(raw_date_to_datetime)       # date:str -> date:datetime"
   ],
   "metadata": {
    "collapsed": false,
    "ExecuteTime": {
     "end_time": "2023-05-28T14:14:54.744645Z",
     "start_time": "2023-05-28T14:14:54.716838Z"
    }
   }
  },
  {
   "cell_type": "code",
   "execution_count": 38,
   "outputs": [],
   "source": [
    "dates_col = [\n",
    "    {\n",
    "        \"_id\": date,\n",
    "        \"climate\": {\n",
    "            \"air_temperature\": int(climate_historic[climate_historic.date == date][\"air_temperature_celcius\"].array[0]),\n",
    "            \"relative_humidity\": float(climate_historic[climate_historic.date == date][\"relative_humidity\"].array[0]),\n",
    "            \"windspeed_knots\": float(climate_historic[climate_historic.date == date][\"windspeed_knots\"].array[0]),\n",
    "            \"max_wind_speed\": float(climate_historic[climate_historic.date == date][\"max_wind_speed\"].array[0]),\n",
    "            \"precipitation\": climate_historic[climate_historic.date == date][\"precipitation\"].array[0],\n",
    "            \"ghi\": int(climate_historic[climate_historic.date == date][\"GHI_w/m2\"].array[0])\n",
    "        },\n",
    "        \"hotspots\": [\n",
    "            {\"hotspot_id\": hotspot_id}\n",
    "            for hotspot_id in hotspot_historic[hotspot_historic.date == date][\"datetime\"].array\n",
    "        ]\n",
    "    }\n",
    "    for date in dates\n",
    "]"
   ],
   "metadata": {
    "collapsed": false,
    "ExecuteTime": {
     "end_time": "2023-05-28T14:28:57.840579Z",
     "start_time": "2023-05-28T14:28:57.595084Z"
    }
   }
  },
  {
   "cell_type": "markdown",
   "source": [
    "### Inserting Lists to MongoDb"
   ],
   "metadata": {
    "collapsed": false
   }
  },
  {
   "cell_type": "code",
   "execution_count": 40,
   "outputs": [
    {
     "name": "stdout",
     "output_type": "stream",
     "text": [
      "Duplicated Keys in dates (Data already inserted)\n"
     ]
    }
   ],
   "source": [
    "from pymongo.errors import BulkWriteError\n",
    "\n",
    "try:\n",
    "    db.dates.insert_many(dates_col)\n",
    "except BulkWriteError:\n",
    "    print(\"Duplicated Keys in dates (Data already inserted)\")\n",
    "else:\n",
    "    print(\"Data inserted\")\n"
   ],
   "metadata": {
    "collapsed": false,
    "ExecuteTime": {
     "end_time": "2023-05-28T14:29:23.500676Z",
     "start_time": "2023-05-28T14:29:23.472856Z"
    }
   }
  },
  {
   "cell_type": "markdown",
   "source": [
    "# Task 2"
   ],
   "metadata": {
    "collapsed": false
   }
  },
  {
   "cell_type": "code",
   "execution_count": 39,
   "outputs": [],
   "source": [],
   "metadata": {
    "collapsed": false
   }
  }
 ],
 "metadata": {
  "kernelspec": {
   "display_name": "Python 3",
   "language": "python",
   "name": "python3"
  },
  "language_info": {
   "codemirror_mode": {
    "name": "ipython",
    "version": 2
   },
   "file_extension": ".py",
   "mimetype": "text/x-python",
   "name": "python",
   "nbconvert_exporter": "python",
   "pygments_lexer": "ipython2",
   "version": "2.7.6"
  }
 },
 "nbformat": 4,
 "nbformat_minor": 0
}
