{
 "cells": [
  {
   "cell_type": "code",
   "execution_count": 2,
   "metadata": {
    "collapsed": true,
    "ExecuteTime": {
     "end_time": "2023-06-01T16:17:46.435943Z",
     "start_time": "2023-06-01T16:17:46.376964Z"
    }
   },
   "outputs": [],
   "source": [
    "from kafka3 import KafkaProducer\n",
    "\n",
    "def connect_kafka_producer():\n",
    "    _producer = None\n",
    "    try:\n",
    "        _producer = KafkaProducer(bootstrap_servers=[f'{HOST_IP}:9092'],\n",
    "                                  api_version=(0, 10))\n",
    "    except Exception as ex:\n",
    "        print('Exception while connecting Kafka.')\n",
    "        print(str(ex))\n",
    "    finally:\n",
    "        return _producer\n",
    "\n",
    "def publish_message(producer_instance, topic_name, key, value):\n",
    "    try:\n",
    "        key_bytes = bytes(key, encoding='utf-8')\n",
    "        value_bytes = bytes(value, encoding='utf-8')\n",
    "        producer_instance.send(topic_name, key=key_bytes, value=value_bytes)\n",
    "        producer_instance.flush()\n",
    "        print('Message published successfully. Data: ' + str(value))\n",
    "    except Exception as ex:\n",
    "        print('Exception in publishing message.')\n",
    "        print(str(ex))"
   ]
  },
  {
   "cell_type": "code",
   "execution_count": 3,
   "outputs": [
    {
     "data": {
      "text/plain": "datetime.datetime(2022, 12, 28, 0, 0)"
     },
     "execution_count": 3,
     "metadata": {},
     "output_type": "execute_result"
    }
   ],
   "source": [
    "from pymongo import MongoClient\n",
    "import pandas as pd\n",
    "from datetime import timedelta\n",
    "\n",
    "db = MongoClient('mongodb://localhost:27017/').fit3182_assignment_db\n",
    "today = db.dates.find({}).sort(\"_id\", -1).limit(1)[0].get(\"_id\") + timedelta(days=1)\n",
    "today"
   ],
   "metadata": {
    "collapsed": false,
    "ExecuteTime": {
     "end_time": "2023-06-01T16:17:50.253386Z",
     "start_time": "2023-06-01T16:17:48.953182Z"
    }
   }
  },
  {
   "cell_type": "code",
   "execution_count": 4,
   "outputs": [
    {
     "name": "stdout",
     "output_type": "stream",
     "text": [
      "Message published successfully. Data: latitude                   -37.386\n",
      "longitude                  148.043\n",
      "air_temperature_celcius          8\n",
      "relative_humidity             43.3\n",
      "windspeed_knots                3.9\n",
      "max_wind_speed                 8.0\n",
      "precipitation                0.00I\n",
      "GHI_w/m2                        72\n",
      "Name: 153, dtype: object\n",
      "Message published successfully. Data: latitude                   -37.8387\n",
      "longitude                  144.6301\n",
      "air_temperature_celcius          11\n",
      "relative_humidity              41.4\n",
      "windspeed_knots                 7.7\n",
      "max_wind_speed                 15.0\n",
      "precipitation                 0.03G\n",
      "GHI_w/m2                        101\n",
      "Name: 307, dtype: object\n",
      "Message published successfully. Data: latitude                   -36.8264\n",
      "longitude                  142.6138\n",
      "air_temperature_celcius          15\n",
      "relative_humidity              48.2\n",
      "windspeed_knots                14.7\n",
      "max_wind_speed                 25.1\n",
      "precipitation                 0.43G\n",
      "GHI_w/m2                        131\n",
      "Name: 283, dtype: object\n",
      "Message published successfully. Data: latitude                    -37.33\n",
      "longitude                  148.087\n",
      "air_temperature_celcius         12\n",
      "relative_humidity             41.8\n",
      "windspeed_knots               14.7\n",
      "max_wind_speed                21.0\n",
      "precipitation                0.00I\n",
      "GHI_w/m2                       110\n",
      "Name: 197, dtype: object\n"
     ]
    },
    {
     "ename": "KeyboardInterrupt",
     "evalue": "",
     "output_type": "error",
     "traceback": [
      "\u001B[0;31m---------------------------------------------------------------------------\u001B[0m",
      "\u001B[0;31mKeyboardInterrupt\u001B[0m                         Traceback (most recent call last)",
      "Input \u001B[0;32mIn [4]\u001B[0m, in \u001B[0;36m<cell line: 11>\u001B[0;34m()\u001B[0m\n\u001B[1;32m     13\u001B[0m publish_message(producer, topic, key\u001B[38;5;241m=\u001B[39m(\u001B[38;5;28mstr\u001B[39m(\u001B[38;5;28mid\u001B[39m(producer))\u001B[38;5;241m+\u001B[39m\u001B[38;5;28mstr\u001B[39m(today)), value\u001B[38;5;241m=\u001B[39m\u001B[38;5;28mstr\u001B[39m(row))\n\u001B[1;32m     14\u001B[0m today \u001B[38;5;241m=\u001B[39m today \u001B[38;5;241m+\u001B[39m timedelta(days\u001B[38;5;241m=\u001B[39m\u001B[38;5;241m1\u001B[39m)\n\u001B[0;32m---> 15\u001B[0m \u001B[43msleep\u001B[49m\u001B[43m(\u001B[49m\u001B[38;5;241;43m10\u001B[39;49m\u001B[43m)\u001B[49m\n",
      "\u001B[0;31mKeyboardInterrupt\u001B[0m: "
     ]
    }
   ],
   "source": [
    "from time import sleep\n",
    "import random\n",
    "\n",
    "HOST_IP = \"192.168.20.6\"\n",
    "\n",
    "topic = \"producer_1\"\n",
    "climate_streaming = pd.read_csv(\"../dataset/climate_streaming.csv\")\n",
    "producer = connect_kafka_producer()\n",
    "\n",
    "while True:\n",
    "    rand_index = random.randrange(0, len(climate_streaming))\n",
    "    row = climate_streaming.iloc[rand_index]\n",
    "    publish_message(producer, topic, key=(str(id(producer))+str(today)), value=str(row))\n",
    "    today = today + timedelta(days=1)\n",
    "    sleep(10)\n"
   ],
   "metadata": {
    "collapsed": false,
    "ExecuteTime": {
     "end_time": "2023-06-01T16:18:29.554269Z",
     "start_time": "2023-06-01T16:17:52.099089Z"
    }
   }
  },
  {
   "cell_type": "code",
   "execution_count": null,
   "outputs": [],
   "source": [],
   "metadata": {
    "collapsed": false
   }
  }
 ],
 "metadata": {
  "kernelspec": {
   "display_name": "Python 3",
   "language": "python",
   "name": "python3"
  },
  "language_info": {
   "codemirror_mode": {
    "name": "ipython",
    "version": 2
   },
   "file_extension": ".py",
   "mimetype": "text/x-python",
   "name": "python",
   "nbconvert_exporter": "python",
   "pygments_lexer": "ipython2",
   "version": "2.7.6"
  }
 },
 "nbformat": 4,
 "nbformat_minor": 0
}
