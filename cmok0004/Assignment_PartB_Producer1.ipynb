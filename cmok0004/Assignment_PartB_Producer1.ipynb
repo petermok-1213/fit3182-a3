{
 "cells": [
  {
   "cell_type": "code",
   "execution_count": 25,
   "metadata": {
    "collapsed": true,
    "ExecuteTime": {
     "end_time": "2023-05-30T14:43:51.269389Z",
     "start_time": "2023-05-30T14:43:51.263946Z"
    }
   },
   "outputs": [],
   "source": [
    "from kafka3 import KafkaProducer\n",
    "\n",
    "def connect_kafka_producer():\n",
    "    _producer = None\n",
    "    try:\n",
    "        _producer = KafkaProducer(bootstrap_servers=[f'{HOST_IP}:9092'],\n",
    "                                  api_version=(0, 10))\n",
    "    except Exception as ex:\n",
    "        print('Exception while connecting Kafka.')\n",
    "        print(str(ex))\n",
    "    finally:\n",
    "        return _producer\n",
    "\n",
    "def publish_message(producer_instance, topic_name, key, value):\n",
    "    try:\n",
    "        key_bytes = bytes(key, encoding='utf-8')\n",
    "        value_bytes = bytes(value, encoding='utf-8')\n",
    "        producer_instance.send(topic_name, key=key_bytes, value=value_bytes)\n",
    "        producer_instance.flush()\n",
    "        print('Message published successfully. Data: ' + str(value))\n",
    "    except Exception as ex:\n",
    "        print('Exception in publishing message.')\n",
    "        print(str(ex))"
   ]
  },
  {
   "cell_type": "code",
   "execution_count": 39,
   "outputs": [
    {
     "data": {
      "text/plain": "datetime.datetime(2022, 12, 28, 0, 0)"
     },
     "execution_count": 39,
     "metadata": {},
     "output_type": "execute_result"
    }
   ],
   "source": [
    "from pymongo import MongoClient\n",
    "import pandas as pd\n",
    "from datetime import timedelta\n",
    "\n",
    "db = MongoClient('mongodb://localhost:27017/').fit3182_assignment_db\n",
    "today = db.dates.find({}).sort(\"_id\", -1).limit(1)[0].get(\"_id\") + timedelta(days=1)\n",
    "today"
   ],
   "metadata": {
    "collapsed": false,
    "ExecuteTime": {
     "end_time": "2023-05-31T06:19:02.316614Z",
     "start_time": "2023-05-31T06:19:02.183527Z"
    }
   }
  },
  {
   "cell_type": "code",
   "execution_count": 40,
   "outputs": [
    {
     "name": "stdout",
     "output_type": "stream",
     "text": [
      "Message published successfully. Data: latitude                  -37.363\n",
      "longitude                  148.06\n",
      "air_temperature_celcius        11\n",
      "relative_humidity            35.3\n",
      "windspeed_knots              18.2\n",
      "max_wind_speed               25.1\n",
      "precipitation               0.00I\n",
      "GHI_w/m2                      106\n",
      "Name: 202, dtype: object\n",
      "2022-12-28 00:00:00 None published\n",
      "Message published successfully. Data: latitude                   -35.323\n",
      "longitude                  143.509\n",
      "air_temperature_celcius         15\n",
      "relative_humidity             49.3\n",
      "windspeed_knots                3.6\n",
      "max_wind_speed                 7.0\n",
      "precipitation                0.00I\n",
      "GHI_w/m2                       129\n",
      "Name: 105, dtype: object\n",
      "2022-12-29 00:00:00 None published\n",
      "Message published successfully. Data: latitude                   -37.623\n",
      "longitude                  149.284\n",
      "air_temperature_celcius         21\n",
      "relative_humidity             64.5\n",
      "windspeed_knots               10.6\n",
      "max_wind_speed                15.9\n",
      "precipitation                1.26G\n",
      "GHI_w/m2                       158\n",
      "Name: 35, dtype: object\n",
      "2022-12-30 00:00:00 None published\n",
      "Message published successfully. Data: latitude                   -37.332\n",
      "longitude                  143.375\n",
      "air_temperature_celcius         21\n",
      "relative_humidity             51.7\n",
      "windspeed_knots                7.2\n",
      "max_wind_speed                13.0\n",
      "precipitation                0.00I\n",
      "GHI_w/m2                       177\n",
      "Name: 66, dtype: object\n",
      "2022-12-31 00:00:00 None published\n"
     ]
    },
    {
     "ename": "KeyboardInterrupt",
     "evalue": "",
     "output_type": "error",
     "traceback": [
      "\u001B[0;31m---------------------------------------------------------------------------\u001B[0m",
      "\u001B[0;31mKeyboardInterrupt\u001B[0m                         Traceback (most recent call last)",
      "Input \u001B[0;32mIn [40]\u001B[0m, in \u001B[0;36m<cell line: 5>\u001B[0;34m()\u001B[0m\n\u001B[1;32m      8\u001B[0m \u001B[38;5;28mprint\u001B[39m(\u001B[38;5;28mstr\u001B[39m(today)\u001B[38;5;241m+\u001B[39m \u001B[38;5;124m\"\u001B[39m\u001B[38;5;124m \u001B[39m\u001B[38;5;124m\"\u001B[39m \u001B[38;5;241m+\u001B[39m\u001B[38;5;28mstr\u001B[39m(row\u001B[38;5;241m.\u001B[39mget(\u001B[38;5;124m\"\u001B[39m\u001B[38;5;124mdate\u001B[39m\u001B[38;5;124m\"\u001B[39m)) \u001B[38;5;241m+\u001B[39m \u001B[38;5;124m\"\u001B[39m\u001B[38;5;124m published\u001B[39m\u001B[38;5;124m\"\u001B[39m)\n\u001B[1;32m      9\u001B[0m today \u001B[38;5;241m=\u001B[39m today \u001B[38;5;241m+\u001B[39m timedelta(days\u001B[38;5;241m=\u001B[39m\u001B[38;5;241m1\u001B[39m)\n\u001B[0;32m---> 10\u001B[0m \u001B[43msleep\u001B[49m\u001B[43m(\u001B[49m\u001B[38;5;241;43m10\u001B[39;49m\u001B[43m)\u001B[49m\n",
      "\u001B[0;31mKeyboardInterrupt\u001B[0m: "
     ]
    }
   ],
   "source": [
    "from time import sleep\n",
    "import random\n",
    "\n",
    "HOST_IP = \"192.168.20.6\"\n",
    "\n",
    "topic = \"Topic1\"\n",
    "climate_streaming = pd.read_csv(\"../dataset/climate_streaming.csv\")\n",
    "producer = connect_kafka_producer()\n",
    "\n",
    "while True:\n",
    "    rand_index = random.randrange(0, len(climate_streaming))\n",
    "    row = climate_streaming.iloc[rand_index]\n",
    "    publish_message(producer, topic, key=(str(id(producer))+str(today)), value=str(row))\n",
    "    today = today + timedelta(days=1)\n",
    "    sleep(10)\n"
   ],
   "metadata": {
    "collapsed": false,
    "ExecuteTime": {
     "end_time": "2023-05-31T06:20:11.272928Z",
     "start_time": "2023-05-31T06:19:33.320975Z"
    }
   }
  }
 ],
 "metadata": {
  "kernelspec": {
   "display_name": "Python 3",
   "language": "python",
   "name": "python3"
  },
  "language_info": {
   "codemirror_mode": {
    "name": "ipython",
    "version": 2
   },
   "file_extension": ".py",
   "mimetype": "text/x-python",
   "name": "python",
   "nbconvert_exporter": "python",
   "pygments_lexer": "ipython2",
   "version": "2.7.6"
  }
 },
 "nbformat": 4,
 "nbformat_minor": 0
}
