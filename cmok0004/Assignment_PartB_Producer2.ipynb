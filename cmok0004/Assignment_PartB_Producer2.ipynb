{
 "cells": [
  {
   "cell_type": "code",
   "execution_count": 7,
   "metadata": {
    "collapsed": true,
    "ExecuteTime": {
     "end_time": "2023-06-04T10:54:51.779291Z",
     "start_time": "2023-06-04T10:54:51.773068Z"
    }
   },
   "outputs": [],
   "source": [
    "from kafka3 import KafkaProducer\n",
    "\n",
    "def connect_kafka_producer():\n",
    "    _producer = None\n",
    "    try:\n",
    "        _producer = KafkaProducer(bootstrap_servers=[f'{HOST_IP}:9092'],\n",
    "                                  api_version=(0, 10))\n",
    "    except Exception as ex:\n",
    "        print('Exception while connecting Kafka.')\n",
    "        print(str(ex))\n",
    "    finally:\n",
    "        return _producer\n",
    "\n",
    "def publish_message(producer_instance, topic_name, key, value):\n",
    "    try:\n",
    "        key_bytes = bytes(key, encoding='utf-8')\n",
    "        value_bytes = bytes(value, encoding='utf-8')\n",
    "        producer_instance.send(topic_name, key=key_bytes, value=value_bytes)\n",
    "        producer_instance.flush()\n",
    "        print('Message published successfully. Data: ' + str(key))\n",
    "    except Exception as ex:\n",
    "        print('Exception in publishing message.')\n",
    "        print(str(ex))"
   ]
  },
  {
   "cell_type": "code",
   "execution_count": 11,
   "outputs": [
    {
     "name": "stdout",
     "output_type": "stream",
     "text": [
      "Message published successfully. Data: {'producer': 140550534564592, 'datetime': '2023-06-04 22:29:23.273526'}\n",
      "Message published successfully. Data: {'producer': 140550534564592, 'datetime': '2023-06-05 03:17:23.273526'}\n",
      "Message published successfully. Data: {'producer': 140550534564592, 'datetime': '2023-06-05 08:05:23.273526'}\n",
      "Message published successfully. Data: {'producer': 140550534564592, 'datetime': '2023-06-05 12:53:23.273526'}\n",
      "Message published successfully. Data: {'producer': 140550534564592, 'datetime': '2023-06-05 17:41:23.273526'}\n",
      "Message published successfully. Data: {'producer': 140550534564592, 'datetime': '2023-06-05 22:29:23.273526'}\n",
      "Message published successfully. Data: {'producer': 140550534564592, 'datetime': '2023-06-06 03:17:23.273526'}\n",
      "Message published successfully. Data: {'producer': 140550534564592, 'datetime': '2023-06-06 08:05:23.273526'}\n",
      "Message published successfully. Data: {'producer': 140550534564592, 'datetime': '2023-06-06 12:53:23.273526'}\n",
      "Message published successfully. Data: {'producer': 140550534564592, 'datetime': '2023-06-06 17:41:23.273526'}\n",
      "Message published successfully. Data: {'producer': 140550534564592, 'datetime': '2023-06-06 22:29:23.273526'}\n"
     ]
    },
    {
     "ename": "KeyboardInterrupt",
     "evalue": "",
     "output_type": "error",
     "traceback": [
      "\u001B[0;31m---------------------------------------------------------------------------\u001B[0m",
      "\u001B[0;31mKeyboardInterrupt\u001B[0m                         Traceback (most recent call last)",
      "Input \u001B[0;32mIn [11]\u001B[0m, in \u001B[0;36m<cell line: 14>\u001B[0;34m()\u001B[0m\n\u001B[1;32m     17\u001B[0m publish_message(\n\u001B[1;32m     18\u001B[0m     producer, TOPIC_NAME,\n\u001B[1;32m     19\u001B[0m     key\u001B[38;5;241m=\u001B[39m\u001B[38;5;28mstr\u001B[39m({\u001B[38;5;124m\"\u001B[39m\u001B[38;5;124mproducer\u001B[39m\u001B[38;5;124m\"\u001B[39m: \u001B[38;5;28mid\u001B[39m(producer), \u001B[38;5;124m\"\u001B[39m\u001B[38;5;124mdatetime\u001B[39m\u001B[38;5;124m\"\u001B[39m: \u001B[38;5;28mstr\u001B[39m(now)}),\n\u001B[1;32m     20\u001B[0m     value\u001B[38;5;241m=\u001B[39m\u001B[38;5;28mstr\u001B[39m(data)\n\u001B[1;32m     21\u001B[0m )\n\u001B[1;32m     22\u001B[0m now \u001B[38;5;241m+\u001B[39m\u001B[38;5;241m=\u001B[39m timedelta(hours\u001B[38;5;241m=\u001B[39m\u001B[38;5;241m4.8\u001B[39m)\n\u001B[0;32m---> 23\u001B[0m \u001B[43msleep\u001B[49m\u001B[43m(\u001B[49m\u001B[38;5;241;43m2\u001B[39;49m\u001B[43m)\u001B[49m\n",
      "\u001B[0;31mKeyboardInterrupt\u001B[0m: "
     ]
    }
   ],
   "source": [
    "import pandas as pd\n",
    "import random\n",
    "from time import sleep\n",
    "from datetime import datetime, timedelta\n",
    "\n",
    "HOST_IP = \"192.168.20.6\"\n",
    "TOPIC_NAME = \"aqua_producer\"\n",
    "\n",
    "climate_streaming = pd.read_csv(\"../dataset/hotspot_AQUA_streaming.csv\")\n",
    "producer = connect_kafka_producer()\n",
    "now = datetime.now()\n",
    "\n",
    "while True:\n",
    "    rand_index = random.randrange(0, len(climate_streaming))\n",
    "    row = climate_streaming.iloc[rand_index]\n",
    "    data = dict(row)\n",
    "    publish_message(\n",
    "        producer, TOPIC_NAME,\n",
    "        key=str({\"producer\": id(producer), \"datetime\": str(now)}),\n",
    "        value=str(data)\n",
    "    )\n",
    "    now += timedelta(hours=4.8)\n",
    "    sleep(2)\n"
   ],
   "metadata": {
    "collapsed": false,
    "ExecuteTime": {
     "end_time": "2023-06-04T12:29:44.927165Z",
     "start_time": "2023-06-04T12:29:23.244016Z"
    }
   }
  },
  {
   "cell_type": "code",
   "execution_count": null,
   "outputs": [],
   "source": [],
   "metadata": {
    "collapsed": false
   }
  }
 ],
 "metadata": {
  "kernelspec": {
   "display_name": "Python 3",
   "language": "python",
   "name": "python3"
  },
  "language_info": {
   "codemirror_mode": {
    "name": "ipython",
    "version": 2
   },
   "file_extension": ".py",
   "mimetype": "text/x-python",
   "name": "python",
   "nbconvert_exporter": "python",
   "pygments_lexer": "ipython2",
   "version": "2.7.6"
  }
 },
 "nbformat": 4,
 "nbformat_minor": 0
}
