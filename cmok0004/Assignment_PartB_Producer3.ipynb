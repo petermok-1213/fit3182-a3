{
 "cells": [
  {
   "cell_type": "code",
   "execution_count": 3,
   "metadata": {
    "collapsed": true,
    "ExecuteTime": {
     "end_time": "2023-06-04T10:54:40.661859Z",
     "start_time": "2023-06-04T10:54:40.645080Z"
    }
   },
   "outputs": [],
   "source": [
    "from kafka3 import KafkaProducer\n",
    "\n",
    "def connect_kafka_producer():\n",
    "    _producer = None\n",
    "    try:\n",
    "        _producer = KafkaProducer(bootstrap_servers=[f'{HOST_IP}:9092'],\n",
    "                                  api_version=(0, 10))\n",
    "    except Exception as ex:\n",
    "        print('Exception while connecting Kafka.')\n",
    "        print(str(ex))\n",
    "    finally:\n",
    "        return _producer\n",
    "\n",
    "def publish_message(producer_instance, topic_name, key, value):\n",
    "    try:\n",
    "        key_bytes = bytes(key, encoding='utf-8')\n",
    "        value_bytes = bytes(value, encoding='utf-8')\n",
    "        producer_instance.send(topic_name, key=key_bytes, value=value_bytes)\n",
    "        producer_instance.flush()\n",
    "        print('Message published successfully. Data: ' + str(key))\n",
    "    except Exception as ex:\n",
    "        print('Exception in publishing message.')\n",
    "        print(str(ex))"
   ]
  },
  {
   "cell_type": "code",
   "execution_count": null,
   "outputs": [
    {
     "name": "stdout",
     "output_type": "stream",
     "text": [
      "Message published successfully. Data: {'producer': 140532975087376, 'datetime': '2023-06-04 22:30:14.788370'}\n",
      "Message published successfully. Data: {'producer': 140532975087376, 'datetime': '2023-06-05 03:18:14.788370'}\n",
      "Message published successfully. Data: {'producer': 140532975087376, 'datetime': '2023-06-05 08:06:14.788370'}\n",
      "Message published successfully. Data: {'producer': 140532975087376, 'datetime': '2023-06-05 12:54:14.788370'}\n",
      "Message published successfully. Data: {'producer': 140532975087376, 'datetime': '2023-06-05 17:42:14.788370'}\n",
      "Message published successfully. Data: {'producer': 140532975087376, 'datetime': '2023-06-05 22:30:14.788370'}\n",
      "Message published successfully. Data: {'producer': 140532975087376, 'datetime': '2023-06-06 03:18:14.788370'}\n",
      "Message published successfully. Data: {'producer': 140532975087376, 'datetime': '2023-06-06 08:06:14.788370'}\n",
      "Message published successfully. Data: {'producer': 140532975087376, 'datetime': '2023-06-06 12:54:14.788370'}\n",
      "Message published successfully. Data: {'producer': 140532975087376, 'datetime': '2023-06-06 17:42:14.788370'}\n",
      "Message published successfully. Data: {'producer': 140532975087376, 'datetime': '2023-06-06 22:30:14.788370'}\n",
      "Message published successfully. Data: {'producer': 140532975087376, 'datetime': '2023-06-07 03:18:14.788370'}\n",
      "Message published successfully. Data: {'producer': 140532975087376, 'datetime': '2023-06-07 08:06:14.788370'}\n",
      "Message published successfully. Data: {'producer': 140532975087376, 'datetime': '2023-06-07 12:54:14.788370'}\n",
      "Message published successfully. Data: {'producer': 140532975087376, 'datetime': '2023-06-07 17:42:14.788370'}\n",
      "Message published successfully. Data: {'producer': 140532975087376, 'datetime': '2023-06-07 22:30:14.788370'}\n",
      "Message published successfully. Data: {'producer': 140532975087376, 'datetime': '2023-06-08 03:18:14.788370'}\n",
      "Message published successfully. Data: {'producer': 140532975087376, 'datetime': '2023-06-08 08:06:14.788370'}\n",
      "Message published successfully. Data: {'producer': 140532975087376, 'datetime': '2023-06-08 12:54:14.788370'}\n",
      "Message published successfully. Data: {'producer': 140532975087376, 'datetime': '2023-06-08 17:42:14.788370'}\n",
      "Message published successfully. Data: {'producer': 140532975087376, 'datetime': '2023-06-08 22:30:14.788370'}\n",
      "Message published successfully. Data: {'producer': 140532975087376, 'datetime': '2023-06-09 03:18:14.788370'}\n",
      "Message published successfully. Data: {'producer': 140532975087376, 'datetime': '2023-06-09 08:06:14.788370'}\n",
      "Message published successfully. Data: {'producer': 140532975087376, 'datetime': '2023-06-09 12:54:14.788370'}\n",
      "Message published successfully. Data: {'producer': 140532975087376, 'datetime': '2023-06-09 17:42:14.788370'}\n",
      "Message published successfully. Data: {'producer': 140532975087376, 'datetime': '2023-06-09 22:30:14.788370'}\n",
      "Message published successfully. Data: {'producer': 140532975087376, 'datetime': '2023-06-10 03:18:14.788370'}\n",
      "Message published successfully. Data: {'producer': 140532975087376, 'datetime': '2023-06-10 08:06:14.788370'}\n",
      "Message published successfully. Data: {'producer': 140532975087376, 'datetime': '2023-06-10 12:54:14.788370'}\n",
      "Message published successfully. Data: {'producer': 140532975087376, 'datetime': '2023-06-10 17:42:14.788370'}\n"
     ]
    }
   ],
   "source": [
    "import pandas as pd\n",
    "import random\n",
    "from time import sleep\n",
    "from datetime import datetime, timedelta\n",
    "\n",
    "HOST_IP = \"192.168.20.6\"\n",
    "TOPIC_NAME = \"aqua_producer\"\n",
    "\n",
    "climate_streaming = pd.read_csv(\"../dataset/hotspot_AQUA_streaming.csv\")\n",
    "producer = connect_kafka_producer()\n",
    "now = datetime.now()\n",
    "\n",
    "while True:\n",
    "    rand_index = random.randrange(0, len(climate_streaming))\n",
    "    row = climate_streaming.iloc[rand_index]\n",
    "    data = dict(row)\n",
    "    publish_message(\n",
    "        producer, TOPIC_NAME,\n",
    "        key=str({\"producer\": id(producer), \"datetime\": str(now)}),\n",
    "        value=str(data)\n",
    "    )\n",
    "    now += timedelta(hours=4.8)\n",
    "    sleep(2)"
   ],
   "metadata": {
    "collapsed": false,
    "is_executing": true,
    "ExecuteTime": {
     "start_time": "2023-06-04T12:30:14.717447Z"
    }
   }
  },
  {
   "cell_type": "code",
   "execution_count": null,
   "outputs": [],
   "source": [],
   "metadata": {
    "collapsed": false
   }
  }
 ],
 "metadata": {
  "kernelspec": {
   "display_name": "Python 3",
   "language": "python",
   "name": "python3"
  },
  "language_info": {
   "codemirror_mode": {
    "name": "ipython",
    "version": 2
   },
   "file_extension": ".py",
   "mimetype": "text/x-python",
   "name": "python",
   "nbconvert_exporter": "python",
   "pygments_lexer": "ipython2",
   "version": "2.7.6"
  }
 },
 "nbformat": 4,
 "nbformat_minor": 0
}
