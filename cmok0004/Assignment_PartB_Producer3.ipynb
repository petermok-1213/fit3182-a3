{
 "cells": [
  {
   "cell_type": "code",
   "execution_count": 3,
   "metadata": {
    "collapsed": true,
    "ExecuteTime": {
     "end_time": "2023-06-04T10:54:40.661859Z",
     "start_time": "2023-06-04T10:54:40.645080Z"
    }
   },
   "outputs": [],
   "source": [
    "from kafka3 import KafkaProducer\n",
    "\n",
    "def connect_kafka_producer():\n",
    "    _producer = None\n",
    "    try:\n",
    "        _producer = KafkaProducer(bootstrap_servers=[f'{HOST_IP}:9092'],\n",
    "                                  api_version=(0, 10))\n",
    "    except Exception as ex:\n",
    "        print('Exception while connecting Kafka.')\n",
    "        print(str(ex))\n",
    "    finally:\n",
    "        return _producer\n",
    "\n",
    "def publish_message(producer_instance, topic_name, key, value):\n",
    "    try:\n",
    "        key_bytes = bytes(key, encoding='utf-8')\n",
    "        value_bytes = bytes(value, encoding='utf-8')\n",
    "        producer_instance.send(topic_name, key=key_bytes, value=value_bytes)\n",
    "        producer_instance.flush()\n",
    "        print('Message published successfully. Data: ' + str(key))\n",
    "    except Exception as ex:\n",
    "        print('Exception in publishing message.')\n",
    "        print(str(ex))"
   ]
  },
  {
   "cell_type": "code",
   "execution_count": 4,
   "outputs": [
    {
     "data": {
      "text/plain": "'2022-12-28'"
     },
     "execution_count": 4,
     "metadata": {},
     "output_type": "execute_result"
    }
   ],
   "source": [
    "from pymongo import MongoClient\n",
    "import pandas as pd\n",
    "from datetime import timedelta\n",
    "\n",
    "db = MongoClient('mongodb://localhost:27017/').fit3182_assignment_db\n",
    "today = db.dates.find({}).sort(\"_id\", -1).limit(1)[0].get(\"_id\") + timedelta(days=1)\n",
    "str(today.date())"
   ],
   "metadata": {
    "collapsed": false,
    "ExecuteTime": {
     "end_time": "2023-06-04T10:54:40.708622Z",
     "start_time": "2023-06-04T10:54:40.652822Z"
    }
   }
  },
  {
   "cell_type": "code",
   "execution_count": 5,
   "outputs": [
    {
     "name": "stdout",
     "output_type": "stream",
     "text": [
      "Message published successfully. Data: {'producer': 140532975242640, 'date': '2022-12-28'}\n",
      "Message published successfully. Data: {'producer': 140532975242640, 'date': '2022-12-29'}\n",
      "Message published successfully. Data: {'producer': 140532975242640, 'date': '2022-12-30'}\n",
      "Message published successfully. Data: {'producer': 140532975242640, 'date': '2022-12-31'}\n",
      "Message published successfully. Data: {'producer': 140532975242640, 'date': '2023-01-01'}\n",
      "Message published successfully. Data: {'producer': 140532975242640, 'date': '2023-01-02'}\n",
      "Message published successfully. Data: {'producer': 140532975242640, 'date': '2023-01-03'}\n",
      "Message published successfully. Data: {'producer': 140532975242640, 'date': '2023-01-04'}\n",
      "Message published successfully. Data: {'producer': 140532975242640, 'date': '2023-01-05'}\n"
     ]
    },
    {
     "ename": "KeyboardInterrupt",
     "evalue": "",
     "output_type": "error",
     "traceback": [
      "\u001B[0;31m---------------------------------------------------------------------------\u001B[0m",
      "\u001B[0;31mKeyboardInterrupt\u001B[0m                         Traceback (most recent call last)",
      "Input \u001B[0;32mIn [5]\u001B[0m, in \u001B[0;36m<cell line: 11>\u001B[0;34m()\u001B[0m\n\u001B[1;32m     14\u001B[0m publish_message(\n\u001B[1;32m     15\u001B[0m     producer, TOPIC_NAME,\n\u001B[1;32m     16\u001B[0m     key\u001B[38;5;241m=\u001B[39m\u001B[38;5;28mstr\u001B[39m({\u001B[38;5;124m\"\u001B[39m\u001B[38;5;124mproducer\u001B[39m\u001B[38;5;124m\"\u001B[39m: \u001B[38;5;28mid\u001B[39m(producer), \u001B[38;5;124m\"\u001B[39m\u001B[38;5;124mdate\u001B[39m\u001B[38;5;124m\"\u001B[39m: \u001B[38;5;28mstr\u001B[39m(today\u001B[38;5;241m.\u001B[39mdate())}),\n\u001B[1;32m     17\u001B[0m     value\u001B[38;5;241m=\u001B[39m\u001B[38;5;28mstr\u001B[39m(data)\n\u001B[1;32m     18\u001B[0m )\n\u001B[1;32m     19\u001B[0m today \u001B[38;5;241m=\u001B[39m today \u001B[38;5;241m+\u001B[39m timedelta(days\u001B[38;5;241m=\u001B[39m\u001B[38;5;241m1\u001B[39m)\n\u001B[0;32m---> 20\u001B[0m \u001B[43msleep\u001B[49m\u001B[43m(\u001B[49m\u001B[38;5;241;43m2\u001B[39;49m\u001B[43m)\u001B[49m\n",
      "\u001B[0;31mKeyboardInterrupt\u001B[0m: "
     ]
    }
   ],
   "source": [
    "from time import sleep\n",
    "import random\n",
    "\n",
    "HOST_IP = \"192.168.20.6\"\n",
    "TOPIC_NAME = \"terra_producer\"\n",
    "\n",
    "climate_streaming = pd.read_csv(\"../dataset/hotspot_TERRA_streaming.csv\")\n",
    "producer = connect_kafka_producer()\n",
    "\n",
    "while True:\n",
    "    rand_index = random.randrange(0, len(climate_streaming))\n",
    "    row = climate_streaming.iloc[rand_index]\n",
    "    data = dict(row)\n",
    "    publish_message(\n",
    "        producer, TOPIC_NAME,\n",
    "        key=str({\"producer\": id(producer), \"date\": str(today.date())}),\n",
    "        value=str(data)\n",
    "    )\n",
    "    today = today + timedelta(days=1)\n",
    "    sleep(2)"
   ],
   "metadata": {
    "collapsed": false,
    "ExecuteTime": {
     "end_time": "2023-06-04T10:54:59.765124Z",
     "start_time": "2023-06-04T10:54:40.717636Z"
    }
   }
  }
 ],
 "metadata": {
  "kernelspec": {
   "display_name": "Python 3",
   "language": "python",
   "name": "python3"
  },
  "language_info": {
   "codemirror_mode": {
    "name": "ipython",
    "version": 2
   },
   "file_extension": ".py",
   "mimetype": "text/x-python",
   "name": "python",
   "nbconvert_exporter": "python",
   "pygments_lexer": "ipython2",
   "version": "2.7.6"
  }
 },
 "nbformat": 4,
 "nbformat_minor": 0
}
